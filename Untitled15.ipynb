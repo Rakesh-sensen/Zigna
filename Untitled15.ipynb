{
 "cells": [
  {
   "cell_type": "code",
   "execution_count": 3,
   "id": "5743cc1f-701f-4a93-aa4b-95a732f328c2",
   "metadata": {},
   "outputs": [],
   "source": [
    "import pandas as pd\n",
    "import numpy as np\n",
    "import seaborn as sns"
   ]
  },
  {
   "cell_type": "code",
   "execution_count": 4,
   "id": "46b5c132-0954-466d-b575-9ecf79d74abb",
   "metadata": {},
   "outputs": [
    {
     "data": {
      "text/html": [
       "<div><div id=a475712b-f333-44b6-b164-1b018636a8e5 style=\"display:none; background-color:#9D6CFF; color:white; width:200px; height:30px; padding-left:5px; border-radius:4px; flex-direction:row; justify-content:space-around; align-items:center;\" onmouseover=\"this.style.backgroundColor='#BA9BF8'\" onmouseout=\"this.style.backgroundColor='#9D6CFF'\" onclick=\"window.commands?.execute('create-mitosheet-from-dataframe-output');\">See Full Dataframe in Mito</div> <script> if (window.commands.hasCommand('create-mitosheet-from-dataframe-output')) document.getElementById('a475712b-f333-44b6-b164-1b018636a8e5').style.display = 'flex' </script> <table border=\"1\" class=\"dataframe\">\n",
       "  <thead>\n",
       "    <tr style=\"text-align: right;\">\n",
       "      <th></th>\n",
       "      <th>Sample id</th>\n",
       "      <th>Make</th>\n",
       "      <th>Fuel Type</th>\n",
       "      <th>Fuel Type clnd</th>\n",
       "      <th>Location</th>\n",
       "      <th>Location cld</th>\n",
       "      <th>Manufacturing Year</th>\n",
       "      <th>Price in INR</th>\n",
       "      <th>Model</th>\n",
       "      <th>mileage</th>\n",
       "      <th>kms driven</th>\n",
       "    </tr>\n",
       "  </thead>\n",
       "  <tbody>\n",
       "    <tr>\n",
       "      <th>0</th>\n",
       "      <td>1</td>\n",
       "      <td>Chevrolet</td>\n",
       "      <td>Petrol</td>\n",
       "      <td>Petrol</td>\n",
       "      <td>Kolkata</td>\n",
       "      <td>Kolkata</td>\n",
       "      <td>2008</td>\n",
       "      <td>1000000</td>\n",
       "      <td>Spark LS</td>\n",
       "      <td>17</td>\n",
       "      <td>54773</td>\n",
       "    </tr>\n",
       "    <tr>\n",
       "      <th>1</th>\n",
       "      <td>2</td>\n",
       "      <td>Maruti</td>\n",
       "      <td>Petrol</td>\n",
       "      <td>Petrol</td>\n",
       "      <td>Indore</td>\n",
       "      <td>Indore</td>\n",
       "      <td>2002</td>\n",
       "      <td>1000000</td>\n",
       "      <td>Suzuki Zen (2003-2006) Vxi BS-III</td>\n",
       "      <td>12</td>\n",
       "      <td>148692</td>\n",
       "    </tr>\n",
       "    <tr>\n",
       "      <th>2</th>\n",
       "      <td>3</td>\n",
       "      <td>Maruti</td>\n",
       "      <td>Petrol</td>\n",
       "      <td>Petrol</td>\n",
       "      <td>Ankleshwar</td>\n",
       "      <td>Ankleshwar</td>\n",
       "      <td>2007</td>\n",
       "      <td>1000000</td>\n",
       "      <td>Suzuki Alto 800 LX</td>\n",
       "      <td>17</td>\n",
       "      <td>75126</td>\n",
       "    </tr>\n",
       "    <tr>\n",
       "      <th>3</th>\n",
       "      <td>4</td>\n",
       "      <td>Maruti</td>\n",
       "      <td>Petrol</td>\n",
       "      <td>Petrol</td>\n",
       "      <td>Jabalpur</td>\n",
       "      <td>Jabalpur</td>\n",
       "      <td>2009</td>\n",
       "      <td>1000000</td>\n",
       "      <td>Suzuki Alto 800 LX</td>\n",
       "      <td>13</td>\n",
       "      <td>58202</td>\n",
       "    </tr>\n",
       "    <tr>\n",
       "      <th>4</th>\n",
       "      <td>5</td>\n",
       "      <td>Maruti</td>\n",
       "      <td>Petrol</td>\n",
       "      <td>Petrol</td>\n",
       "      <td>Agra</td>\n",
       "      <td>Agra</td>\n",
       "      <td>2010</td>\n",
       "      <td>1000000</td>\n",
       "      <td>Suzuki A Star VXI</td>\n",
       "      <td>15</td>\n",
       "      <td>53160</td>\n",
       "    </tr>\n",
       "  </tbody>\n",
       "</table></div>"
      ],
      "text/plain": [
       "   Sample id       Make Fuel Type Fuel Type clnd    Location Location cld  \\\n",
       "0          1  Chevrolet    Petrol         Petrol     Kolkata      Kolkata   \n",
       "1          2     Maruti    Petrol         Petrol      Indore       Indore   \n",
       "2          3     Maruti    Petrol         Petrol  Ankleshwar   Ankleshwar   \n",
       "3          4     Maruti    Petrol         Petrol    Jabalpur     Jabalpur   \n",
       "4          5     Maruti    Petrol         Petrol        Agra         Agra   \n",
       "\n",
       "   Manufacturing Year  Price in INR                              Model  \\\n",
       "0                2008       1000000                           Spark LS   \n",
       "1                2002       1000000  Suzuki Zen (2003-2006) Vxi BS-III   \n",
       "2                2007       1000000                 Suzuki Alto 800 LX   \n",
       "3                2009       1000000                 Suzuki Alto 800 LX   \n",
       "4                2010       1000000                  Suzuki A Star VXI   \n",
       "\n",
       "   mileage  kms driven  \n",
       "0       17       54773  \n",
       "1       12      148692  \n",
       "2       17       75126  \n",
       "3       13       58202  \n",
       "4       15       53160  "
      ]
     },
     "execution_count": 4,
     "metadata": {},
     "output_type": "execute_result"
    }
   ],
   "source": [
    "df=pd.read_csv('Used cars in India.csv')\n",
    "df['Fuel Type']=df['Fuel Type'].str.strip()\n",
    "df['Location']=df['Location'].str.strip()\n",
    "df.shape\n",
    "df.head()"
   ]
  },
  {
   "cell_type": "code",
   "execution_count": 5,
   "id": "fc6c25eb-3fb5-4de0-851c-2eb8dc5c08b6",
   "metadata": {},
   "outputs": [
    {
     "name": "stderr",
     "output_type": "stream",
     "text": [
      "NumExpr defaulting to 4 threads.\n"
     ]
    },
    {
     "data": {
      "text/plain": [
       "(9772, 11)"
      ]
     },
     "execution_count": 5,
     "metadata": {},
     "output_type": "execute_result"
    }
   ],
   "source": [
    "df.dropna(inplace=True)\n",
    "df.shape"
   ]
  },
  {
   "cell_type": "code",
   "execution_count": 6,
   "id": "609ec209-b092-431d-910a-6d58190580b8",
   "metadata": {},
   "outputs": [
    {
     "data": {
      "text/plain": [
       "Index(['Sample id', 'Make', 'Fuel Type', 'Fuel Type clnd', 'Location',\n",
       "       'Location cld', 'Manufacturing Year', 'Price in INR', 'Model',\n",
       "       'mileage', 'kms driven'],\n",
       "      dtype='object')"
      ]
     },
     "execution_count": 6,
     "metadata": {},
     "output_type": "execute_result"
    }
   ],
   "source": [
    "df.columns"
   ]
  },
  {
   "cell_type": "code",
   "execution_count": 7,
   "id": "ff29749e-44f9-4551-b197-2add61e95f2c",
   "metadata": {},
   "outputs": [],
   "source": [
    "df.columns\n",
    "X=df[['Sample id', 'Make', 'Fuel Type','Fuel Type clnd',\n",
    "       'Manufacturing Year','Model','Location','Location cld',\n",
    "       'mileage', 'kms driven']]\n",
    "y=df['Price in INR']"
   ]
  },
  {
   "cell_type": "code",
   "execution_count": 8,
   "id": "5aa2ea48-cd41-4839-b1a4-e0a7e6c0d7ad",
   "metadata": {},
   "outputs": [],
   "source": [
    "from sklearn.compose import ColumnTransformer\n",
    "from sklearn.preprocessing import OneHotEncoder\n",
    "ct=ColumnTransformer(transformers=[('encoder',OneHotEncoder(),[1,2,3,5,6,7])],remainder='passthrough')\n",
    "X=ct.fit_transform(X)"
   ]
  },
  {
   "cell_type": "code",
   "execution_count": 9,
   "id": "ec3c1eb8-1ec7-4dd2-baae-7b8c0cdac0c8",
   "metadata": {},
   "outputs": [],
   "source": [
    "from sklearn.model_selection import train_test_split\n",
    "X_train, X_test, y_train, y_test = train_test_split(X, y, test_size=0.2, random_state=0)\n"
   ]
  },
  {
   "cell_type": "code",
   "execution_count": 10,
   "id": "ef979ffa-80a9-4400-900f-9736047dcf1b",
   "metadata": {},
   "outputs": [
    {
     "data": {
      "text/plain": [
       "LinearRegression()"
      ]
     },
     "execution_count": 10,
     "metadata": {},
     "output_type": "execute_result"
    }
   ],
   "source": [
    "from sklearn.linear_model import LinearRegression\n",
    "le=LinearRegression()\n",
    "le.fit(X_train,y_train)"
   ]
  },
  {
   "cell_type": "code",
   "execution_count": 11,
   "id": "c0e8fbfa-06dd-41e0-bba8-6311451ebe84",
   "metadata": {},
   "outputs": [],
   "source": [
    "pred=le.predict(X_test)"
   ]
  },
  {
   "cell_type": "code",
   "execution_count": 12,
   "id": "549a4369-c512-4dfa-8c23-b25f748c937b",
   "metadata": {},
   "outputs": [
    {
     "data": {
      "text/plain": [
       "<matplotlib.collections.PathCollection at 0x7efcee497610>"
      ]
     },
     "execution_count": 12,
     "metadata": {},
     "output_type": "execute_result"
    },
    {
     "data": {
      "image/png": "[encoded data removed]",
      "text/plain": [
       "<Figure size 432x288 with 1 Axes>"
      ]
     },
     "metadata": {
      "needs_background": "light"
     },
     "output_type": "display_data"
    }
   ],
   "source": [
    "plt.scatter(y_test,pred)"
   ]
  },
  {
   "cell_type": "code",
   "execution_count": null,
   "id": "95c72ce6-f049-4285-b5d6-c9eb98208db0",
   "metadata": {},
   "outputs": [],
   "source": []
  },
  {
   "cell_type": "code",
   "execution_count": null,
   "id": "aaee563c-9921-4f56-ba28-0d91520851aa",
   "metadata": {},
   "outputs": [],
   "source": []
  },
  {
   "cell_type": "code",
   "execution_count": 2,
   "id": "4cb61f9f-e8ff-4c40-b21c-7a4232568706",
   "metadata": {},
   "outputs": [
    {
     "ename": "NameError",
     "evalue": "name 'y_test' is not defined",
     "output_type": "error",
     "traceback": [
      "\u001b[0;31m---------------------------------------------------------------------------\u001b[0m",
      "\u001b[0;31mNameError\u001b[0m                                 Traceback (most recent call last)",
      "\u001b[0;32m<ipython-input-2-74b0b0ec8744>\u001b[0m in \u001b[0;36m<module>\u001b[0;34m\u001b[0m\n\u001b[0;32m----> 1\u001b[0;31m \u001b[0mplt\u001b[0m\u001b[0;34m.\u001b[0m\u001b[0mscatter\u001b[0m\u001b[0;34m(\u001b[0m\u001b[0my_test\u001b[0m\u001b[0;34m,\u001b[0m\u001b[0mpred\u001b[0m\u001b[0;34m)\u001b[0m\u001b[0;34m\u001b[0m\u001b[0;34m\u001b[0m\u001b[0m\n\u001b[0m",
      "\u001b[0;31mNameError\u001b[0m: name 'y_test' is not defined"
     ]
    }
   ],
   "source": []
  },
  {
   "cell_type": "code",
   "execution_count": null,
   "id": "ab68b878-5818-4202-97e9-a028c5bf2ded",
   "metadata": {},
   "outputs": [],
   "source": []
  }
 ],
 "metadata": {
  "kernelspec": {
   "display_name": "Python 3",
   "language": "python",
   "name": "python3"
  },
  "language_info": {
   "codemirror_mode": {
    "name": "ipython",
    "version": 3
   },
   "file_extension": ".py",
   "mimetype": "text/x-python",
   "name": "python",
   "nbconvert_exporter": "python",
   "pygments_lexer": "ipython3",
   "version": "3.8.8"
  }
 },
 "nbformat": 4,
 "nbformat_minor": 5
}
