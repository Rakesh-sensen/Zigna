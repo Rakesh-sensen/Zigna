{
 "cells": [
  {
   "cell_type": "code",
   "execution_count": 1,
   "id": "b6b3d1a7-de3c-4944-b8e2-3a8f007587fa",
   "metadata": {},
   "outputs": [],
   "source": [
    "import pandas as ps\n",
    "import seaborn as sns\n"
   ]
  },
  {
   "cell_type": "code",
   "execution_count": 2,
   "id": "a6fef20c-9aba-4a59-b336-9583560a4fa6",
   "metadata": {},
   "outputs": [],
   "source": [
    "df=pd.read_csv('Used cars in India.csv')"
   ]
  },
  {
   "cell_type": "code",
   "execution_count": 3,
   "id": "f69d11fa-a959-47f9-929f-b55527b72230",
   "metadata": {},
   "outputs": [
    {
     "data": {
      "text/html": [
       "<div><div id=611bba83-0e13-4315-a525-829e0ea1fe00 style=\"display:none; background-color:#9D6CFF; color:white; width:200px; height:30px; padding-left:5px; border-radius:4px; flex-direction:row; justify-content:space-around; align-items:center;\" onmouseover=\"this.style.backgroundColor='#BA9BF8'\" onmouseout=\"this.style.backgroundColor='#9D6CFF'\" onclick=\"window.commands?.execute('create-mitosheet-from-dataframe-output');\">See Full Dataframe in Mito</div> <script> if (window.commands.hasCommand('create-mitosheet-from-dataframe-output')) document.getElementById('611bba83-0e13-4315-a525-829e0ea1fe00').style.display = 'flex' </script> <table border=\"1\" class=\"dataframe\">\n",
       "  <thead>\n",
       "    <tr style=\"text-align: right;\">\n",
       "      <th></th>\n",
       "      <th>Sample id</th>\n",
       "      <th>Make</th>\n",
       "      <th>Fuel Type</th>\n",
       "      <th>Fuel Type clnd</th>\n",
       "      <th>Location</th>\n",
       "      <th>Location cld</th>\n",
       "      <th>Manufacturing Year</th>\n",
       "      <th>Price in INR</th>\n",
       "      <th>Model</th>\n",
       "      <th>mileage</th>\n",
       "      <th>kms driven</th>\n",
       "    </tr>\n",
       "  </thead>\n",
       "  <tbody>\n",
       "    <tr>\n",
       "      <th>0</th>\n",
       "      <td>1</td>\n",
       "      <td>Chevrolet</td>\n",
       "      <td>Petrol</td>\n",
       "      <td>Petrol</td>\n",
       "      <td>Kolkata</td>\n",
       "      <td>Kolkata</td>\n",
       "      <td>2008</td>\n",
       "      <td>1000000</td>\n",
       "      <td>Spark LS</td>\n",
       "      <td>17</td>\n",
       "      <td>54773</td>\n",
       "    </tr>\n",
       "    <tr>\n",
       "      <th>1</th>\n",
       "      <td>2</td>\n",
       "      <td>Maruti</td>\n",
       "      <td>Petrol</td>\n",
       "      <td>Petrol</td>\n",
       "      <td>Indore</td>\n",
       "      <td>Indore</td>\n",
       "      <td>2002</td>\n",
       "      <td>1000000</td>\n",
       "      <td>Suzuki Zen (2003-2006) Vxi BS-III</td>\n",
       "      <td>12</td>\n",
       "      <td>148692</td>\n",
       "    </tr>\n",
       "    <tr>\n",
       "      <th>2</th>\n",
       "      <td>3</td>\n",
       "      <td>Maruti</td>\n",
       "      <td>Petrol</td>\n",
       "      <td>Petrol</td>\n",
       "      <td>Ankleshwar</td>\n",
       "      <td>Ankleshwar</td>\n",
       "      <td>2007</td>\n",
       "      <td>1000000</td>\n",
       "      <td>Suzuki Alto 800 LX</td>\n",
       "      <td>17</td>\n",
       "      <td>75126</td>\n",
       "    </tr>\n",
       "    <tr>\n",
       "      <th>3</th>\n",
       "      <td>4</td>\n",
       "      <td>Maruti</td>\n",
       "      <td>Petrol</td>\n",
       "      <td>Petrol</td>\n",
       "      <td>Jabalpur</td>\n",
       "      <td>Jabalpur</td>\n",
       "      <td>2009</td>\n",
       "      <td>1000000</td>\n",
       "      <td>Suzuki Alto 800 LX</td>\n",
       "      <td>13</td>\n",
       "      <td>58202</td>\n",
       "    </tr>\n",
       "    <tr>\n",
       "      <th>4</th>\n",
       "      <td>5</td>\n",
       "      <td>Maruti</td>\n",
       "      <td>Petrol</td>\n",
       "      <td>Petrol</td>\n",
       "      <td>Agra</td>\n",
       "      <td>Agra</td>\n",
       "      <td>2010</td>\n",
       "      <td>1000000</td>\n",
       "      <td>Suzuki A Star VXI</td>\n",
       "      <td>15</td>\n",
       "      <td>53160</td>\n",
       "    </tr>\n",
       "  </tbody>\n",
       "</table></div>"
      ],
      "text/plain": [
       "   Sample id       Make   Fuel Type Fuel Type clnd         Location  \\\n",
       "0          1  Chevrolet    Petrol           Petrol        Kolkata     \n",
       "1          2     Maruti    Petrol           Petrol         Indore     \n",
       "2          3     Maruti    Petrol           Petrol     Ankleshwar     \n",
       "3          4     Maruti    Petrol           Petrol       Jabalpur     \n",
       "4          5     Maruti    Petrol           Petrol           Agra     \n",
       "\n",
       "  Location cld  Manufacturing Year  Price in INR  \\\n",
       "0      Kolkata                2008       1000000   \n",
       "1       Indore                2002       1000000   \n",
       "2   Ankleshwar                2007       1000000   \n",
       "3     Jabalpur                2009       1000000   \n",
       "4         Agra                2010       1000000   \n",
       "\n",
       "                               Model  mileage  kms driven  \n",
       "0                           Spark LS       17       54773  \n",
       "1  Suzuki Zen (2003-2006) Vxi BS-III       12      148692  \n",
       "2                 Suzuki Alto 800 LX       17       75126  \n",
       "3                 Suzuki Alto 800 LX       13       58202  \n",
       "4                  Suzuki A Star VXI       15       53160  "
      ]
     },
     "execution_count": 3,
     "metadata": {},
     "output_type": "execute_result"
    }
   ],
   "source": [
    "df.head()"
   ]
  },
  {
   "cell_type": "code",
   "execution_count": 10,
   "id": "562fd0ef-5798-4ead-a8ad-16f191a0faef",
   "metadata": {},
   "outputs": [
    {
     "data": {
      "image/png": "[encoded data removed]",
      "text/plain": [
       "<Figure size 432x288 with 1 Axes>"
      ]
     },
     "metadata": {
      "needs_background": "light"
     },
     "output_type": "display_data"
    }
   ],
   "source": [
    "df.dropna(inplace=True)\n",
    "df.spl\n",
    "bar_cht=sns.barplot(x=df['Fuel Type'],y=df['Price in INR'],data=df)"
   ]
  },
  {
   "cell_type": "code",
   "execution_count": 28,
   "id": "e1889650-b7fb-4491-b20a-f01ae718dbc6",
   "metadata": {},
   "outputs": [
    {
     "data": {
      "image/png": "[encoded data removed]",
      "text/plain": [
       "<Figure size 432x288 with 1 Axes>"
      ]
     },
     "metadata": {
      "needs_background": "light"
     },
     "output_type": "display_data"
    }
   ],
   "source": [
    "df.dropna(inplace=True)\n",
    "bar_cht=sns.barplot(x=df['Fuel Type'],y=df['mileage'],data=df)"
   ]
  },
  {
   "cell_type": "code",
   "execution_count": 26,
   "id": "d8789bf2-ca66-4f76-81a1-bf1a9504d3fe",
   "metadata": {},
   "outputs": [
    {
     "data": {
      "text/plain": [
       "array(['Petrol', 'Diesel', 'CNG', 'Hybrid', 'LPG', '', 'CNGPetrol'],\n",
       "      dtype=object)"
      ]
     },
     "execution_count": 26,
     "metadata": {},
     "output_type": "execute_result"
    }
   ],
   "source": [
    "df['Fuel Type'].str.strip().unique()"
   ]
  },
  {
   "cell_type": "code",
   "execution_count": 30,
   "id": "8dab5185-c12d-47cb-888a-8e51284be197",
   "metadata": {},
   "outputs": [
    {
     "data": {
      "text/plain": [
       "array(['Chevrolet', 'Maruti', 'Tata', 'Hyundai', 'Ford', 'Jaguar',\n",
       "       'Mercedes-Benz', 'Volvo', 'Audi', 'BMW', 'Land', 'Toyota',\n",
       "       'Mitsubishi', 'Mini', 'Mahindra', 'Skoda', 'Jeep', 'Honda',\n",
       "       'Volkswagen', 'Isuzu', 'Renault', 'Nissan', 'Fiat', 'Datsun',\n",
       "       'Force', 'Opel', 'Hindustan'], dtype=object)"
      ]
     },
     "execution_count": 30,
     "metadata": {},
     "output_type": "execute_result"
    }
   ],
   "source": [
    "df['Make'].unique()"
   ]
  },
  {
   "cell_type": "code",
   "execution_count": null,
   "id": "5e32b511-4200-4522-a701-df7f6821a89c",
   "metadata": {},
   "outputs": [],
   "source": [
    "df"
   ]
  }
 ],
 "metadata": {
  "kernelspec": {
   "display_name": "Python 3",
   "language": "python",
   "name": "python3"
  },
  "language_info": {
   "codemirror_mode": {
    "name": "ipython",
    "version": 3
   },
   "file_extension": ".py",
   "mimetype": "text/x-python",
   "name": "python",
   "nbconvert_exporter": "python",
   "pygments_lexer": "ipython3",
   "version": "3.8.8"
  }
 },
 "nbformat": 4,
 "nbformat_minor": 5
}
